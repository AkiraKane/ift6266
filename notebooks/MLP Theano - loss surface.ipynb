{
 "cells": [
  {
   "cell_type": "code",
   "execution_count": 9,
   "metadata": {
    "collapsed": true
   },
   "outputs": [],
   "source": [
    "# this is shamelessly stolen from Vincent Dumoulin's Github:\n",
    "# https://github.com/vdumoulin/ift6266h15/blob/master/assignments/01/solution_theano.py"
   ]
  },
  {
   "cell_type": "code",
   "execution_count": 46,
   "metadata": {
    "collapsed": false
   },
   "outputs": [],
   "source": [
    "import gzip\n",
    "import cPickle\n",
    "import numpy\n",
    "import theano\n",
    "import theano.tensor as tensor\n",
    "import numpy as np\n",
    "\n",
    "%matplotlib inline\n",
    "import matplotlib.pyplot as plt"
   ]
  },
  {
   "cell_type": "code",
   "execution_count": 11,
   "metadata": {
    "collapsed": true
   },
   "outputs": [],
   "source": [
    "def one_hot_encode(y, num_classes):\n",
    "    \"\"\"\n",
    "    Performs a one-hot encoding of a batch of integer targets\n",
    "    Parameters\n",
    "    ----------\n",
    "    y : numpy.ndarray\n",
    "        Batch of integer targets of shape (batch_size, )\n",
    "    num_classes : int\n",
    "        Number of classes\n",
    "    Returns\n",
    "    -------\n",
    "    Y : numpy.ndarray\n",
    "        One-hot encoded matrix of shape (batch_size, num_classes) corresponding\n",
    "        to y\n",
    "    \"\"\"\n",
    "    Y = numpy.zeros((y.shape[0], num_classes))\n",
    "    for i, c in enumerate(y):\n",
    "        Y[i, c] = 1\n",
    "    return Y"
   ]
  },
  {
   "cell_type": "code",
   "execution_count": 12,
   "metadata": {
    "collapsed": true
   },
   "outputs": [],
   "source": [
    "# Load data\n",
    "with gzip.open('mnist.pkl.gz', 'rb') as f:\n",
    "    train_set, valid_set, test_set = cPickle.load(f)\n",
    "    train_X, train_y = train_set\n",
    "    valid_X, valid_y = valid_set\n",
    "    test_X, test_y = test_set\n",
    "train_y = one_hot_encode(train_y, 10)\n",
    "valid_y = one_hot_encode(valid_y, 10)\n",
    "test_y = one_hot_encode(test_y, 10)"
   ]
  },
  {
   "cell_type": "code",
   "execution_count": 13,
   "metadata": {
    "collapsed": true
   },
   "outputs": [],
   "source": [
    "def relu(x):\n",
    "    return tensor.switch(x>0, x, 0)"
   ]
  },
  {
   "cell_type": "code",
   "execution_count": 71,
   "metadata": {
    "collapsed": true
   },
   "outputs": [],
   "source": [
    "# Instantiate symbolic variables\n",
    "X = tensor.matrix('X')\n",
    "T = tensor.matrix('T')\n",
    "W = theano.shared(\n",
    "    numpy.random.uniform(low=-0.01, high=0.01, size=(784, 200)), 'W')\n",
    "b = theano.shared(numpy.zeros(200))\n",
    "V = theano.shared(\n",
    "    numpy.random.uniform(low=-0.01, high=0.01, size=(200, 10)), 'V')\n",
    "c = theano.shared(numpy.zeros(10))\n",
    "params = [W, b, V, c]\n",
    "\n",
    "# Build computation graph\n",
    "H = tensor.nnet.sigmoid(tensor.dot(X, W) + b)\n",
    "#H = relu(tensor.dot(X, W) + b)\n",
    "Y = tensor.nnet.softmax(tensor.dot(H, V) + c)\n",
    "loss = -(T * tensor.log(Y)).sum(axis=1).mean()\n",
    "misclass = tensor.neq(T.argmax(axis=1), Y.argmax(axis=1)).mean()\n",
    "\n",
    "grads = tensor.grad(loss, params)"
   ]
  },
  {
   "cell_type": "code",
   "execution_count": 72,
   "metadata": {
    "collapsed": false
   },
   "outputs": [
    {
     "name": "stderr",
     "output_type": "stream",
     "text": [
      "/home/thomas/anaconda3/envs/ift6266/lib/python2.7/site-packages/ipykernel/__main__.py:4: UserWarning: The parameter 'updates' of theano.function() expects an OrderedDict, got <type 'dict'>. Using a standard dictionary here results in non-deterministic behavior. You should use an OrderedDict if you are using Python 2.7 (theano.compat.OrderedDict for older python), or use a list of (shared, update) pairs. Do not just convert your dictionary to this type before the call as the conversion will still be non-deterministic.\n"
     ]
    }
   ],
   "source": [
    "# Compile function\n",
    "updates = dict((param, param - 0.01 * grad)\n",
    "               for param, grad in zip(params, grads))\n",
    "f = theano.function(inputs=[X, T], updates=updates, outputs=params)\n",
    "g = theano.function(inputs=[X, T], outputs=[loss, misclass])"
   ]
  },
  {
   "cell_type": "code",
   "execution_count": 16,
   "metadata": {
    "collapsed": false,
    "scrolled": false
   },
   "outputs": [
    {
     "name": "stdout",
     "output_type": "stream",
     "text": [
      "Epoch 1:\n",
      "    Train loss/misclass: 2.30/0.89\n",
      "    Valid loss/misclass: 2.30/0.89\n",
      "    Test  loss/misclass: 2.30/0.89\n",
      "Epoch 2:\n",
      "    Train loss/misclass: 2.30/0.89\n",
      "    Valid loss/misclass: 2.30/0.89\n",
      "    Test  loss/misclass: 2.30/0.89\n",
      "Epoch 3:\n",
      "    Train loss/misclass: 2.29/0.89\n",
      "    Valid loss/misclass: 2.29/0.89\n",
      "    Test  loss/misclass: 2.29/0.89\n",
      "Epoch 4:\n",
      "    Train loss/misclass: 2.28/0.84\n",
      "    Valid loss/misclass: 2.28/0.84\n",
      "    Test  loss/misclass: 2.28/0.84\n",
      "Epoch 5:\n",
      "    Train loss/misclass: 2.26/0.76\n",
      "    Valid loss/misclass: 2.26/0.77\n",
      "    Test  loss/misclass: 2.26/0.76\n",
      "Epoch 6:\n",
      "    Train loss/misclass: 2.23/0.70\n",
      "    Valid loss/misclass: 2.23/0.69\n",
      "    Test  loss/misclass: 2.23/0.69\n",
      "Epoch 7:\n",
      "    Train loss/misclass: 2.18/0.64\n",
      "    Valid loss/misclass: 2.18/0.63\n",
      "    Test  loss/misclass: 2.18/0.64\n",
      "Epoch 8:\n",
      "    Train loss/misclass: 2.11/0.59\n",
      "    Valid loss/misclass: 2.11/0.58\n",
      "    Test  loss/misclass: 2.10/0.59\n",
      "Epoch 9:\n",
      "    Train loss/misclass: 2.00/0.54\n",
      "    Valid loss/misclass: 2.00/0.53\n",
      "    Test  loss/misclass: 1.99/0.55\n",
      "Epoch 10:\n",
      "    Train loss/misclass: 1.87/0.50\n",
      "    Valid loss/misclass: 1.86/0.48\n",
      "    Test  loss/misclass: 1.86/0.50\n"
     ]
    }
   ],
   "source": [
    "# Call function with numerical values\n",
    "batch_size = 200\n",
    "num_batches = train_X.shape[0] / batch_size\n",
    "\n",
    "params_hist = []\n",
    "for epoch in xrange(10):\n",
    "    for i in xrange(num_batches):\n",
    "        numpy_X = train_X[batch_size * i: batch_size * (i + 1)]\n",
    "        numpy_T = train_y[batch_size * i: batch_size * (i + 1)]\n",
    "        params_hist.append(f(numpy_X, numpy_T))\n",
    "    print \"Epoch \" + str(epoch + 1) + \":\"\n",
    "    print \"    Train loss/misclass: %0.2f/%0.2f\" % tuple(g(train_X, train_y))\n",
    "    print \"    Valid loss/misclass: %0.2f/%0.2f\" % tuple(g(valid_X, valid_y))\n",
    "    print \"    Test  loss/misclass: %0.2f/%0.2f\" % tuple(g(test_X, test_y))"
   ]
  },
  {
   "cell_type": "code",
   "execution_count": 17,
   "metadata": {
    "collapsed": false
   },
   "outputs": [
    {
     "name": "stdout",
     "output_type": "stream",
     "text": [
      "2500\n"
     ]
    }
   ],
   "source": [
    "print len(params_hist)"
   ]
  },
  {
   "cell_type": "code",
   "execution_count": 18,
   "metadata": {
    "collapsed": false
   },
   "outputs": [
    {
     "name": "stdout",
     "output_type": "stream",
     "text": [
      "(784, 200)\n",
      "(200,)\n",
      "(200, 10)\n",
      "(10,)\n"
     ]
    }
   ],
   "source": [
    "print params_hist[0][0].shape\n",
    "print params_hist[0][1].shape\n",
    "print params_hist[0][2].shape\n",
    "print params_hist[0][3].shape"
   ]
  },
  {
   "cell_type": "code",
   "execution_count": 19,
   "metadata": {
    "collapsed": true
   },
   "outputs": [],
   "source": [
    "grads_flattened = []\n",
    "for i in range(len(params_hist)):\n",
    "    grads = params_hist.pop()\n",
    "    grads_flattened.append(np.concatenate([grad.flatten() for grad in grads]))"
   ]
  },
  {
   "cell_type": "code",
   "execution_count": 20,
   "metadata": {
    "collapsed": false
   },
   "outputs": [],
   "source": [
    "grads_flattened = np.array(grads_flattened)"
   ]
  },
  {
   "cell_type": "code",
   "execution_count": 21,
   "metadata": {
    "collapsed": true
   },
   "outputs": [],
   "source": [
    "# np.save('grads', grads_flattened)"
   ]
  },
  {
   "cell_type": "code",
   "execution_count": 22,
   "metadata": {
    "collapsed": false
   },
   "outputs": [
    {
     "data": {
      "text/plain": [
       "PCA(copy=True, n_components=2, whiten=False)"
      ]
     },
     "execution_count": 22,
     "metadata": {},
     "output_type": "execute_result"
    }
   ],
   "source": [
    "from sklearn.decomposition import PCA\n",
    "pca = PCA(n_components=2)\n",
    "pca.fit(grads_flattened)"
   ]
  },
  {
   "cell_type": "code",
   "execution_count": 27,
   "metadata": {
    "collapsed": false
   },
   "outputs": [],
   "source": [
    "mins = np.min(grads_flattened, axis=0)"
   ]
  },
  {
   "cell_type": "code",
   "execution_count": 28,
   "metadata": {
    "collapsed": true
   },
   "outputs": [],
   "source": [
    "maxs = np.max(grads_flattened, axis=0)"
   ]
  },
  {
   "cell_type": "code",
   "execution_count": 73,
   "metadata": {
    "collapsed": false
   },
   "outputs": [
    {
     "name": "stdout",
     "output_type": "stream",
     "text": [
      "[[-0.52079406 -0.02691503]] [[-0.46404527 -0.13143617]]\n"
     ]
    },
    {
     "name": "stderr",
     "output_type": "stream",
     "text": [
      "/home/thomas/anaconda3/envs/ift6266/lib/python2.7/site-packages/sklearn/utils/validation.py:386: DeprecationWarning: Passing 1d arrays as data is deprecated in 0.17 and willraise ValueError in 0.19. Reshape your data either using X.reshape(-1, 1) if your data has a single feature or X.reshape(1, -1) if it contains a single sample.\n",
      "  DeprecationWarning)\n",
      "/home/thomas/anaconda3/envs/ift6266/lib/python2.7/site-packages/sklearn/utils/validation.py:386: DeprecationWarning: Passing 1d arrays as data is deprecated in 0.17 and willraise ValueError in 0.19. Reshape your data either using X.reshape(-1, 1) if your data has a single feature or X.reshape(1, -1) if it contains a single sample.\n",
      "  DeprecationWarning)\n"
     ]
    }
   ],
   "source": [
    "mins_transformed = pca.transform(mins)\n",
    "maxs_transformed = pca.transform(maxs)\n",
    "print mins_transformed, maxs_transformed\n",
    "\n",
    "#x_min = min(mins_transformed[0][0], maxs_transformed[0][0])\n",
    "#x_max = max(mins_transformed[0][0], maxs_transformed[0][0])\n",
    "#y_min = min(mins_transformed[0][1], maxs_transformed[0][1])\n",
    "#y_max = max(mins_transformed[0][1], maxs_transformed[0][1])\n",
    "x_min = -10.\n",
    "x_max = 10.\n",
    "y_min = -10.\n",
    "y_max = 10."
   ]
  },
  {
   "cell_type": "code",
   "execution_count": 74,
   "metadata": {
    "collapsed": false
   },
   "outputs": [],
   "source": [
    "xx, yy = np.meshgrid(np.arange(x_min, x_max, (x_max-x_min)/20),\n",
    "                     np.arange(y_min, y_max, (y_max-y_min)/20))"
   ]
  },
  {
   "cell_type": "code",
   "execution_count": 75,
   "metadata": {
    "collapsed": true
   },
   "outputs": [],
   "source": [
    "xxyy = np.c_[xx.ravel(), yy.ravel()]"
   ]
  },
  {
   "cell_type": "code",
   "execution_count": 76,
   "metadata": {
    "collapsed": false,
    "scrolled": true
   },
   "outputs": [
    {
     "name": "stdout",
     "output_type": "stream",
     "text": [
      "0\n",
      "1\n",
      "2\n",
      "3\n",
      "4\n",
      "5\n",
      "6\n",
      "7\n",
      "8\n",
      "9\n",
      "10\n",
      "11\n",
      "12\n",
      "13\n",
      "14\n",
      "15\n",
      "16\n",
      "17\n",
      "18\n",
      "19\n",
      "20\n",
      "21\n",
      "22\n",
      "23\n",
      "24\n",
      "25\n",
      "26\n",
      "27\n",
      "28\n",
      "29\n",
      "30\n",
      "31\n",
      "32\n",
      "33\n",
      "34\n",
      "35\n",
      "36\n",
      "37\n",
      "38\n",
      "39\n",
      "40\n",
      "41\n",
      "42\n",
      "43\n",
      "44\n",
      "45\n",
      "46\n",
      "47\n",
      "48\n",
      "49\n",
      "50\n",
      "51\n",
      "52\n",
      "53\n",
      "54\n",
      "55\n",
      "56\n",
      "57\n",
      "58\n",
      "59\n",
      "60\n",
      "61\n",
      "62\n",
      "63\n",
      "64\n",
      "65\n",
      "66\n",
      "67\n",
      "68\n",
      "69\n",
      "70\n",
      "71\n",
      "72\n",
      "73\n",
      "74\n",
      "75\n",
      "76\n",
      "77\n",
      "78\n",
      "79\n",
      "80\n",
      "81\n",
      "82\n",
      "83\n",
      "84\n",
      "85\n",
      "86\n",
      "87\n",
      "88\n",
      "89\n",
      "90\n",
      "91\n",
      "92\n",
      "93\n",
      "94\n",
      "95\n",
      "96\n",
      "97\n",
      "98\n",
      "99\n",
      "100\n",
      "101\n",
      "102\n",
      "103\n",
      "104\n",
      "105\n",
      "106\n",
      "107\n",
      "108\n",
      "109\n",
      "110\n",
      "111\n",
      "112\n",
      "113\n",
      "114\n",
      "115\n",
      "116\n",
      "117\n",
      "118\n",
      "119\n",
      "120\n",
      "121\n",
      "122\n",
      "123\n",
      "124\n",
      "125\n",
      "126\n",
      "127\n",
      "128\n",
      "129\n",
      "130\n",
      "131\n",
      "132\n",
      "133\n",
      "134\n",
      "135\n",
      "136\n",
      "137\n",
      "138\n",
      "139\n",
      "140\n",
      "141\n",
      "142\n",
      "143\n",
      "144\n",
      "145\n",
      "146\n",
      "147\n",
      "148\n",
      "149\n",
      "150\n",
      "151\n",
      "152\n",
      "153\n",
      "154\n",
      "155\n",
      "156\n",
      "157\n",
      "158\n",
      "159\n",
      "160\n",
      "161\n",
      "162\n",
      "163\n",
      "164\n",
      "165\n",
      "166\n",
      "167\n",
      "168\n",
      "169\n",
      "170\n",
      "171\n",
      "172\n",
      "173\n",
      "174\n",
      "175\n",
      "176\n",
      "177\n",
      "178\n",
      "179\n",
      "180\n",
      "181\n",
      "182\n",
      "183\n",
      "184\n",
      "185\n",
      "186\n",
      "187\n",
      "188\n",
      "189\n",
      "190\n",
      "191\n",
      "192\n",
      "193\n",
      "194\n",
      "195\n",
      "196\n",
      "197\n",
      "198\n",
      "199\n",
      "200\n",
      "201\n",
      "202\n",
      "203\n",
      "204\n",
      "205\n",
      "206\n",
      "207\n",
      "208\n",
      "209\n",
      "210\n",
      "211\n",
      "212\n",
      "213\n",
      "214\n",
      "215\n",
      "216\n",
      "217\n",
      "218\n",
      "219\n",
      "220\n",
      "221\n",
      "222\n",
      "223\n",
      "224\n",
      "225\n",
      "226\n",
      "227\n",
      "228\n",
      "229\n",
      "230\n",
      "231\n",
      "232\n",
      "233\n",
      "234\n",
      "235\n",
      "236\n",
      "237\n",
      "238\n",
      "239\n",
      "240\n",
      "241\n",
      "242\n",
      "243\n",
      "244\n",
      "245\n",
      "246\n",
      "247\n",
      "248\n",
      "249\n",
      "250\n",
      "251\n",
      "252\n",
      "253\n",
      "254\n",
      "255\n",
      "256\n",
      "257\n",
      "258\n",
      "259\n",
      "260\n",
      "261\n",
      "262\n",
      "263\n",
      "264\n",
      "265\n",
      "266\n",
      "267\n",
      "268\n",
      "269\n",
      "270\n",
      "271\n",
      "272\n",
      "273\n",
      "274\n",
      "275\n",
      "276\n",
      "277\n",
      "278\n",
      "279\n",
      "280\n",
      "281\n",
      "282\n",
      "283\n",
      "284\n",
      "285\n",
      "286\n",
      "287\n",
      "288\n",
      "289\n",
      "290\n",
      "291\n",
      "292\n",
      "293\n",
      "294\n",
      "295\n",
      "296\n",
      "297\n",
      "298\n",
      "299\n",
      "300\n",
      "301\n",
      "302\n",
      "303\n",
      "304\n",
      "305\n",
      "306\n",
      "307\n",
      "308\n",
      "309\n",
      "310\n",
      "311\n",
      "312\n",
      "313\n",
      "314\n",
      "315\n",
      "316\n",
      "317\n",
      "318\n",
      "319\n",
      "320\n",
      "321\n",
      "322\n",
      "323\n",
      "324\n",
      "325\n",
      "326\n",
      "327\n",
      "328\n",
      "329\n",
      "330\n",
      "331\n",
      "332\n",
      "333\n",
      "334\n",
      "335\n",
      "336\n",
      "337\n",
      "338\n",
      "339\n",
      "340\n",
      "341\n",
      "342\n",
      "343\n",
      "344\n",
      "345\n",
      "346\n",
      "347\n",
      "348\n",
      "349\n",
      "350\n",
      "351\n",
      "352\n",
      "353\n",
      "354\n",
      "355\n",
      "356\n",
      "357\n",
      "358\n",
      "359\n",
      "360\n",
      "361\n",
      "362\n",
      "363\n",
      "364\n",
      "365\n",
      "366\n",
      "367\n",
      "368\n",
      "369\n",
      "370\n",
      "371\n",
      "372\n",
      "373\n",
      "374\n",
      "375\n",
      "376\n",
      "377\n",
      "378\n",
      "379\n",
      "380\n",
      "381\n",
      "382\n",
      "383\n",
      "384\n",
      "385\n",
      "386\n",
      "387\n",
      "388\n",
      "389\n",
      "390\n",
      "391\n",
      "392\n",
      "393\n",
      "394\n",
      "395\n",
      "396\n",
      "397\n",
      "398\n",
      "399\n"
     ]
    }
   ],
   "source": [
    "costs = []\n",
    "i = 0\n",
    "for current_point in xxyy:\n",
    "    print i\n",
    "    i += 1\n",
    "    flattened = pca.inverse_transform(current_point)\n",
    "    \n",
    "    W.set_value(flattened[0:784*200].reshape(784, 200))\n",
    "    b.set_value(flattened[784*200:784*200+200])\n",
    "    V.set_value(flattened[784*200+200:784*200+200+200*10].reshape(200, 10))\n",
    "    # c.set_value(flattened[784*200+200+200*10:])\n",
    "    \n",
    "    costs.append(g(train_X, train_y)[0])\n",
    "    "
   ]
  },
  {
   "cell_type": "code",
   "execution_count": 69,
   "metadata": {
    "collapsed": false
   },
   "outputs": [
    {
     "name": "stdout",
     "output_type": "stream",
     "text": [
      "(400,) (20, 20)\n",
      "(400,)\n"
     ]
    }
   ],
   "source": [
    "print xx.ravel().shape, yy.shape\n",
    "print np.array(costs).shape"
   ]
  },
  {
   "cell_type": "code",
   "execution_count": 48,
   "metadata": {
    "collapsed": true
   },
   "outputs": [],
   "source": [
    "from mpl_toolkits.mplot3d import Axes3D\n"
   ]
  },
  {
   "cell_type": "code",
   "execution_count": 77,
   "metadata": {
    "collapsed": false,
    "scrolled": false
   },
   "outputs": [
    {
     "data": {
      "image/png": "[encoded data removed]",
      "text/plain": [
       "<matplotlib.figure.Figure at 0x7f22ecd4b190>"
      ]
     },
     "metadata": {},
     "output_type": "display_data"
    }
   ],
   "source": [
    "fig = plt.figure()\n",
    "ax = fig.add_subplot(111, projection='3d')\n",
    "ax.plot_wireframe(xx, yy, np.array(costs).reshape(20, 20))\n",
    "\n",
    "plt.show()"
   ]
  },
  {
   "cell_type": "code",
   "execution_count": 60,
   "metadata": {
    "collapsed": true
   },
   "outputs": [],
   "source": [
    "c = np.concatenate([xx.ravel(), yy.ravel(), np.array(costs)])\n",
    "np.save('c', c)"
   ]
  }
 ],
 "metadata": {
  "kernelspec": {
   "display_name": "IFT6266 (Python 2.7)",
   "language": "python",
   "name": "ift6266"
  },
  "language_info": {
   "codemirror_mode": {
    "name": "ipython",
    "version": 2
   },
   "file_extension": ".py",
   "mimetype": "text/x-python",
   "name": "python",
   "nbconvert_exporter": "python",
   "pygments_lexer": "ipython2",
   "version": "2.7.11"
  }
 },
 "nbformat": 4,
 "nbformat_minor": 0
}
