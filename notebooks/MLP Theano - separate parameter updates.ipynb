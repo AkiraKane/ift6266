{
 "cells": [
  {
   "cell_type": "code",
   "execution_count": 1,
   "metadata": {
    "collapsed": true
   },
   "outputs": [],
   "source": [
    "# this is shamelessly stolen from Vincent Dumoulin's Github:\n",
    "# https://github.com/vdumoulin/ift6266h15/blob/master/assignments/01/solution_theano.py"
   ]
  },
  {
   "cell_type": "code",
   "execution_count": 2,
   "metadata": {
    "collapsed": false
   },
   "outputs": [
    {
     "name": "stderr",
     "output_type": "stream",
     "text": [
      "Vendor:  Continuum Analytics, Inc.\n",
      "Package: mkl\n",
      "Message: trial mode expires in 23 days\n"
     ]
    }
   ],
   "source": [
    "import gzip\n",
    "import cPickle\n",
    "import numpy\n",
    "import theano\n",
    "import theano.tensor as tensor"
   ]
  },
  {
   "cell_type": "code",
   "execution_count": 3,
   "metadata": {
    "collapsed": true
   },
   "outputs": [],
   "source": [
    "def one_hot_encode(y, num_classes):\n",
    "    \"\"\"\n",
    "    Performs a one-hot encoding of a batch of integer targets\n",
    "    Parameters\n",
    "    ----------\n",
    "    y : numpy.ndarray\n",
    "        Batch of integer targets of shape (batch_size, )\n",
    "    num_classes : int\n",
    "        Number of classes\n",
    "    Returns\n",
    "    -------\n",
    "    Y : numpy.ndarray\n",
    "        One-hot encoded matrix of shape (batch_size, num_classes) corresponding\n",
    "        to y\n",
    "    \"\"\"\n",
    "    Y = numpy.zeros((y.shape[0], num_classes))\n",
    "    for i, c in enumerate(y):\n",
    "        Y[i, c] = 1\n",
    "    return Y"
   ]
  },
  {
   "cell_type": "code",
   "execution_count": 4,
   "metadata": {
    "collapsed": true
   },
   "outputs": [],
   "source": [
    "# Load data\n",
    "with gzip.open('mnist.pkl.gz', 'rb') as f:\n",
    "    train_set, valid_set, test_set = cPickle.load(f)\n",
    "    train_X, train_y = train_set\n",
    "    valid_X, valid_y = valid_set\n",
    "    test_X, test_y = test_set\n",
    "train_y = one_hot_encode(train_y, 10)\n",
    "valid_y = one_hot_encode(valid_y, 10)\n",
    "test_y = one_hot_encode(test_y, 10)"
   ]
  },
  {
   "cell_type": "code",
   "execution_count": 5,
   "metadata": {
    "collapsed": true
   },
   "outputs": [],
   "source": [
    "def relu(x):\n",
    "    return tensor.switch(x>0, x, 0)"
   ]
  },
  {
   "cell_type": "code",
   "execution_count": 24,
   "metadata": {
    "collapsed": true
   },
   "outputs": [],
   "source": [
    "# Instantiate symbolic variables\n",
    "X = tensor.matrix('X')\n",
    "T = tensor.matrix('T')\n",
    "W = theano.shared(\n",
    "    numpy.random.uniform(low=-0.01, high=0.01, size=(784, 500)), 'W')\n",
    "b = theano.shared(numpy.zeros(500))\n",
    "V = theano.shared(\n",
    "    numpy.random.uniform(low=-0.01, high=0.01, size=(500, 10)), 'V')\n",
    "c = theano.shared(numpy.zeros(10))\n",
    "params = [c, V, b, W]\n",
    "\n",
    "# Build computation graph\n",
    "H = tensor.nnet.sigmoid(tensor.dot(X, W) + b)\n",
    "#H = relu(tensor.dot(X, W) + b)\n",
    "Y = tensor.nnet.softmax(tensor.dot(H, V) + c)\n",
    "loss = -(T * tensor.log(Y)).sum(axis=1).mean()\n",
    "misclass = tensor.neq(T.argmax(axis=1), Y.argmax(axis=1)).mean()\n",
    "\n",
    "grads = tensor.grad(loss, params)"
   ]
  },
  {
   "cell_type": "code",
   "execution_count": 25,
   "metadata": {
    "collapsed": false
   },
   "outputs": [],
   "source": [
    "# Compile function\n",
    "updates = [(param, param - 0.03 * grad)\n",
    "               for param, grad in zip(params, grads)]\n",
    "\n",
    "fs = [theano.function(inputs=[X, T], updates=[update]) for update in updates]\n",
    "g = theano.function(inputs=[X, T], outputs=[loss, misclass])"
   ]
  },
  {
   "cell_type": "code",
   "execution_count": 26,
   "metadata": {
    "collapsed": false,
    "scrolled": false
   },
   "outputs": [
    {
     "name": "stdout",
     "output_type": "stream",
     "text": [
      "Epoch 1:\n",
      "    Train loss/misclass: 2.16/0.56\n",
      "    Valid loss/misclass: 2.15/0.55\n",
      "    Test  loss/misclass: 2.15/0.55\n",
      "Epoch 2:\n",
      "    Train loss/misclass: 1.31/0.35\n",
      "    Valid loss/misclass: 1.29/0.33\n",
      "    Test  loss/misclass: 1.29/0.34\n",
      "Epoch 3:\n",
      "    Train loss/misclass: 0.84/0.21\n",
      "    Valid loss/misclass: 0.80/0.19\n",
      "    Test  loss/misclass: 0.82/0.20\n",
      "Epoch 4:\n",
      "    Train loss/misclass: 0.64/0.17\n",
      "    Valid loss/misclass: 0.60/0.15\n",
      "    Test  loss/misclass: 0.62/0.16\n",
      "Epoch 5:\n",
      "    Train loss/misclass: 0.54/0.14\n",
      "    Valid loss/misclass: 0.51/0.13\n",
      "    Test  loss/misclass: 0.52/0.14\n",
      "Epoch 6:\n",
      "    Train loss/misclass: 0.49/0.13\n",
      "    Valid loss/misclass: 0.45/0.12\n",
      "    Test  loss/misclass: 0.46/0.12\n",
      "Epoch 7:\n",
      "    Train loss/misclass: 0.45/0.12\n",
      "    Valid loss/misclass: 0.41/0.11\n",
      "    Test  loss/misclass: 0.42/0.11\n",
      "Epoch 8:\n",
      "    Train loss/misclass: 0.42/0.12\n",
      "    Valid loss/misclass: 0.39/0.11\n",
      "    Test  loss/misclass: 0.40/0.11\n",
      "Epoch 9:\n",
      "    Train loss/misclass: 0.40/0.11\n",
      "    Valid loss/misclass: 0.37/0.10\n",
      "    Test  loss/misclass: 0.38/0.10\n",
      "Epoch 10:\n",
      "    Train loss/misclass: 0.39/0.11\n",
      "    Valid loss/misclass: 0.36/0.10\n",
      "    Test  loss/misclass: 0.36/0.10\n"
     ]
    }
   ],
   "source": [
    "# Call function with numerical values\n",
    "batch_size = 100\n",
    "num_batches = train_X.shape[0] / batch_size\n",
    "for epoch in xrange(10):\n",
    "    for i in xrange(num_batches):\n",
    "        numpy_X = train_X[batch_size * i: batch_size * (i + 1)]\n",
    "        numpy_T = train_y[batch_size * i: batch_size * (i + 1)]\n",
    "        for f in fs:\n",
    "            f(numpy_X, numpy_T)\n",
    "    print \"Epoch \" + str(epoch + 1) + \":\"\n",
    "    print \"    Train loss/misclass: %0.2f/%0.2f\" % tuple(g(train_X, train_y))\n",
    "    print \"    Valid loss/misclass: %0.2f/%0.2f\" % tuple(g(valid_X, valid_y))\n",
    "    print \"    Test  loss/misclass: %0.2f/%0.2f\" % tuple(g(test_X, test_y))"
   ]
  }
 ],
 "metadata": {
  "kernelspec": {
   "display_name": "IFT6266 (Python 2.7)",
   "language": "python",
   "name": "ift6266"
  },
  "language_info": {
   "codemirror_mode": {
    "name": "ipython",
    "version": 2
   },
   "file_extension": ".py",
   "mimetype": "text/x-python",
   "name": "python",
   "nbconvert_exporter": "python",
   "pygments_lexer": "ipython2",
   "version": "2.7.11"
  }
 },
 "nbformat": 4,
 "nbformat_minor": 0
}
